{
 "cells": [
  {
   "cell_type": "markdown",
   "id": "eb2a4a3e",
   "metadata": {},
   "source": [
    "## LLM Evaluation on Math problems"
   ]
  },
  {
   "cell_type": "markdown",
   "id": "1d8947e8",
   "metadata": {},
   "source": [
    "### 🤖 Models Considered\n",
    "\n",
    "The following language models were considered:\n",
    "\n",
    "---\n",
    "\n",
    "#### 1. **GPT-4 Turbo**\n",
    "- Developed by OpenAI\n",
    "- One of the most capable general-purpose LLMs as of 2024\n",
    "- Optimized for cost-efficiency and latency over GPT-4\n",
    "- Expected to handle complex reasoning tasks with high accuracy\n",
    "\n",
    "---\n",
    "\n",
    "#### 2. **GPT-3.5 Turbo**\n",
    "- Also developed by OpenAI\n",
    "- A lightweight version of GPT-4, offering faster and cheaper inference\n",
    "- Performs well on simpler arithmetic but struggles with multi-step reasoning\n",
    "- Useful as a baseline for evaluating performance gains in GPT-4 Turbo\n",
    "\n",
    "---\n",
    "\n",
    "#### 3. **DeepSeek R1**\n",
    "- Developed by DeepSeek\n",
    "- Focused on mathematical and logical reasoning\n",
    "- Fine-tuned specifically for structured problem solving\n",
    "- Promising performance on tasks requiring step-by-step arithmetic computation\n",
    "\n",
    "---"
   ]
  },
  {
   "cell_type": "markdown",
   "id": "49f7028e",
   "metadata": {},
   "source": [
    "### 📏 Accuracy Measurement Approaches\n",
    "\n",
    "Evaluating the correctness of LLM outputs on various math datasets presents unique challenges, especially due to the free-form nature of responses. We experimented with three complementary approaches to measure accuracy:\n",
    "\n",
    "---\n",
    "\n",
    "#### 1. ✅ **Explicit Human Verification**\n",
    "- Involves manually inspecting each LLM response against the expected answer\n",
    "- Most accurate and interpretable method\n",
    "- Time-consuming and not scalable for large datasets\n",
    "\n",
    "---\n",
    "\n",
    "#### 2. 🔍 **Regex-Based Answer Extraction**\n",
    "- A rule-based algorithm attempts to extract the final answer from the model’s response using regular expressions\n",
    "- The extracted answer is then compared to the labeled correct choice\n",
    "- Faster and automatable, but:\n",
    "  - Fails when answers are embedded in long explanations\n",
    "  - Cannot capture equivalence in phrasing or alternate formats\n",
    "\n",
    "---\n",
    "\n",
    "#### 3. 🤖 **Self-Validation via LLM**\n",
    "- The LLM is prompted with its own response and the ground-truth answer, and asked whether they convey the same underlying answer\n",
    "- Useful for capturing paraphrased answers or implicit reasoning\n",
    "- Noisy and not always reliable\n",
    "- Still, it offers an **interesting direction** for scalable evaluation and aligns surprisingly well with human judgments in many cases\n",
    "\n",
    "---\n",
    "\n",
    "**Note:** While these approaches may differ in absolute accuracy, our **relative conclusions across models remain consistent**, making them suitable for comparative analysis.\n",
    "\n"
   ]
  },
  {
   "cell_type": "markdown",
   "id": "64df2d5f",
   "metadata": {},
   "source": [
    "### Datasets considered"
   ]
  },
  {
   "cell_type": "markdown",
   "id": "0194cca9",
   "metadata": {},
   "source": [
    "## AQUARAT Dataset Overview\n",
    "\n",
    "The **AQUARAT (Arithmetic Questions About RATios)** dataset is a benchmark designed to test the arithmetic reasoning capabilities of language models. It consists of **multiple-choice questions** focused on **ratios, proportions, and comparative reasoning** in natural language.\n",
    "\n",
    "### Key Features:\n",
    "- 🔢 **Questions:** Text-based arithmetic questions about ratios (e.g., \"The ratio of cats to dogs is 3:2...\")\n",
    "- 📊 **Choices:** Multiple options, only one correct\n",
    "- 🧠 **Reasoning Type:** Requires multi-step arithmetic logic (not just keyword matching)\n",
    "\n",
    "### Source:\n",
    "> https://huggingface.co/datasets/deepmind/aqua_rat\n",
    "\n",
    "### Use Cases:\n",
    "- Evaluating math reasoning in LLMs\n",
    "- Fine-tuning models for quantitative question answering\n",
    "- Understanding generalization in arithmetic logic tasks\n",
    "\n",
    "### Sample Question:\n",
    "> *If the ratio of red marbles to blue marbles is 3:5 and there are 15 red marbles, how many blue marbles are there?*  \n",
    "> **A. 10**  \n",
    "> **B. 20**  \n",
    "> **C. 25** ✅  \n",
    "> **D. 30**\n",
    "\n",
    "### ⚠️ Special Considerations\n",
    "\n",
    "One unique challenge of the **AQUARAT** dataset is that it doesn't always contain questions with clearly verifiable answers. This ambiguity can make it difficult to accurately assess the reasoning capabilities of language models.\n",
    "\n",
    "Consider the following example:\n",
    "\n",
    "> **Question:**  \n",
    "> Three birds are flying at a fast rate of **900 kilometers per hour**.  \n",
    "> What is their speed in **miles per minute**?  \n",
    "> *(Use conversion: 1 km = 0.6 miles)*  \n",
    ">\n",
    "> **Options:**  \n",
    "> A) 32400  \n",
    "> B) 6000  \n",
    "> C) 600  \n",
    "> D) 60000  \n",
    "> E) 10  \n",
    ">\n",
    "> **Model Rationale:**  \n",
    "> - Convert kilometers to miles:  \n",
    ">   900 km × 0.6 = 540 miles  \n",
    "> - Convert hours to minutes:  \n",
    ">   1 hour = 60 minutes  \n",
    "> - Speed in miles per minute:  \n",
    ">   540 × 60 = **32400**  \n",
    ">\n",
    "> ✅ **Correct Answer:** A\n",
    "\n",
    "This kind of problem highlights how even simple unit conversion tasks can become reasoning traps — either for the model or the human evaluating it — when the phrasing, math, or ground truth is ambiguous or misleading.\n"
   ]
  },
  {
   "cell_type": "markdown",
   "id": "5b0f7a90",
   "metadata": {},
   "source": [
    "### 🔁 Reproducibility & Running the Evaluation\n",
    "\n",
    "To reproduce the results or run your own experiments on the AQUARAT dataset using the configured LLMs, follow the steps below:\n",
    "\n",
    "---\n",
    "\n",
    "#### 🔑 1. API Key Setup\n",
    "Before executing the script, make sure that all necessary **API keys** (e.g., OpenAI, DeepSeek) are correctly set as environment variables.  \n",
    "This ensures the script can successfully query the corresponding models.\n",
    "\n",
    "```bash\n",
    "export OPENAI_API_KEY=your_key_here\n",
    "export DEEPSEEK_API_KEY=your_key_here\n",
    "# Add other keys as needed\n",
    "\n",
    "python run_prompt.py --help\n",
    "\n",
    "usage: run_prompt.py [-h] --dataset DATASET [--num_prompts NUM_PROMPTS]\n",
    "\n",
    "Run math dataset evaluation\n",
    "\n",
    "optional arguments:\n",
    "  -h, --help            show this help message and exit\n",
    "  --dataset DATASET     Name of the dataset to use (e.g., gsm8k, math_qa)\n",
    "  --num_prompts NUM_PROMPTS\n",
    "                        Number of prompts to evaluate from the dataset\n",
    "                        \n",
    "python run_prompt.py --dataset aqua_rat --num_prompts 0\n",
    "\n"
   ]
  },
  {
   "cell_type": "code",
   "execution_count": 1,
   "id": "02b92e1a",
   "metadata": {},
   "outputs": [],
   "source": [
    "from evaluators import summary"
   ]
  },
  {
   "cell_type": "code",
   "execution_count": 4,
   "id": "5c60479f",
   "metadata": {},
   "outputs": [
    {
     "data": {
      "image/png": "[encoded data removed]",
      "text/plain": [
       "<Figure size 720x432 with 1 Axes>"
      ]
     },
     "metadata": {
      "needs_background": "light"
     },
     "output_type": "display_data"
    }
   ],
   "source": [
    "summary.plot_accuracy_summary('results_math_eval_aqua_rat_20250523_0403.csv', 'AquaRat')"
   ]
  },
  {
   "cell_type": "code",
   "execution_count": 6,
   "id": "48b546b8",
   "metadata": {},
   "outputs": [
    {
     "data": {
      "image/png": "[encoded data removed]",
      "text/plain": [
       "<Figure size 720x432 with 1 Axes>"
      ]
     },
     "metadata": {
      "needs_background": "light"
     },
     "output_type": "display_data"
    }
   ],
   "source": [
    "summary.plot_accuracy_summary_llm('evaluators/results_math_eval_aqua_rat_with_llm.csv', 'AquaRat')"
   ]
  },
  {
   "cell_type": "code",
   "execution_count": 7,
   "id": "bee45be8",
   "metadata": {},
   "outputs": [
    {
     "name": "stdout",
     "output_type": "stream",
     "text": [
      "Total prompts: 247\n",
      "Same answer across all models: 51\n",
      "Same + correct: 34\n",
      "Same + incorrect: 17\n",
      "Majority agreement (≥2 models match): 92\n"
     ]
    }
   ],
   "source": [
    "import pandas as pd\n",
    "import re\n",
    "from collections import Counter\n",
    "from itertools import combinations\n",
    "\n",
    "def extract_numeric_answer(text: str) -> float:\n",
    "    \"\"\"\n",
    "    Extracts first numeric value (int or float) after 'The answer is ...'.\n",
    "    \"\"\"\n",
    "    match = re.search(r\"The answer is.*?([-+]?\\d*\\.?\\d+)\", text, re.IGNORECASE)\n",
    "    if match:\n",
    "        return float(match.group(1))\n",
    "    fallback = re.search(r\"[-+]?\\d*\\.?\\d+\", text)\n",
    "    if fallback:\n",
    "        return float(fallback.group(0))\n",
    "    return None\n",
    "\n",
    "# === CONFIG ===\n",
    "csv_path = \"results_math_eval_aqua_rat_20250523_0403.csv\"\n",
    "num_models = 3\n",
    "float_tolerance = 1e-2\n",
    "\n",
    "# === Load and preprocess ===\n",
    "df = pd.read_csv(csv_path)\n",
    "df[\"prompt_id\"] = [(i % (len(df) / num_models)) + 1 for i in range(len(df))]\n",
    "df[\"predicted\"] = df[\"response\"].apply(extract_numeric_answer)\n",
    "\n",
    "# === Analysis containers ===\n",
    "same_answer_count = 0\n",
    "same_and_correct = 0\n",
    "same_and_wrong = 0\n",
    "majority_match_count = 0\n",
    "\n",
    "# === Main analysis ===\n",
    "for _, group in df.groupby(\"prompt_id\"):\n",
    "    preds = group[\"predicted\"].dropna().tolist()\n",
    "    corrects = group[\"is_correct\"].tolist()\n",
    "\n",
    "    # Round predictions for equality check (or use tolerance)\n",
    "    rounded_preds = [round(p, 5) for p in preds]\n",
    "\n",
    "    # Count frequencies\n",
    "    freq = Counter(rounded_preds)\n",
    "\n",
    "    # Most common answer\n",
    "    most_common, count = freq.most_common(1)[0] if freq else (None, 0)\n",
    "\n",
    "    if count == len(group):  # all models gave the same\n",
    "        same_answer_count += 1\n",
    "        if all(corrects):\n",
    "            same_and_correct += 1\n",
    "        elif not any(corrects):\n",
    "            same_and_wrong += 1\n",
    "    elif count >= 2:  # majority match\n",
    "        majority_match_count += 1\n",
    "\n",
    "# === Print results ===\n",
    "print(\"Total prompts:\", df[\"prompt_id\"].nunique())\n",
    "print(\"Same answer across all models:\", same_answer_count)\n",
    "print(\"Same + correct:\", same_and_correct)\n",
    "print(\"Same + incorrect:\", same_and_wrong)\n",
    "print(\"Majority agreement (≥2 models match):\", majority_match_count)"
   ]
  },
  {
   "cell_type": "code",
   "execution_count": 8,
   "id": "63be1420",
   "metadata": {},
   "outputs": [
    {
     "name": "stdout",
     "output_type": "stream",
     "text": [
      "🟦 Raw agreement counts:\n",
      "                    gpt-4-turbo  gpt-3.5-turbo-0125  deepseek-chat\n",
      "gpt-4-turbo                 247                  60            121\n",
      "gpt-3.5-turbo-0125           60                 247             64\n",
      "deepseek-chat               121                  64            247\n",
      "\n",
      "📊 Agreement rate (fraction of overlap):\n",
      "                    gpt-4-turbo  gpt-3.5-turbo-0125  deepseek-chat\n",
      "gpt-4-turbo                1.00                0.24           0.49\n",
      "gpt-3.5-turbo-0125         0.24                1.00           0.26\n",
      "deepseek-chat              0.49                0.26           1.00\n"
     ]
    }
   ],
   "source": [
    "# === Get model list ===\n",
    "model_names = df[\"version\"].unique()\n",
    "matrix = pd.DataFrame(0, index=model_names, columns=model_names, dtype=int)\n",
    "counts = pd.DataFrame(0, index=model_names, columns=model_names, dtype=int)\n",
    "\n",
    "# === Compute agreement ===\n",
    "for _, group in df.groupby(\"prompt_id\"):\n",
    "    preds = {\n",
    "        row[\"version\"]: row[\"predicted\"]\n",
    "        for _, row in group.iterrows()\n",
    "        if pd.notnull(row[\"predicted\"])\n",
    "    }\n",
    "\n",
    "    for model_a, model_b in combinations(model_names, 2):\n",
    "        if model_a in preds and model_b in preds:\n",
    "            counts.loc[model_a, model_b] += 1\n",
    "            counts.loc[model_b, model_a] += 1\n",
    "            if abs(preds[model_a] - preds[model_b]) < float_tolerance:\n",
    "                matrix.loc[model_a, model_b] += 1\n",
    "                matrix.loc[model_b, model_a] += 1\n",
    "\n",
    "# Self-agreement = total comparisons\n",
    "for model in model_names:\n",
    "    total = df[df[\"version\"] == model][\"prompt_id\"].nunique()\n",
    "    matrix.loc[model, model] = total\n",
    "    counts.loc[model, model] = total\n",
    "\n",
    "# === Normalize (optional) ===\n",
    "agreement_rate = matrix / counts\n",
    "\n",
    "# === Output ===\n",
    "print(\"🟦 Raw agreement counts:\")\n",
    "print(matrix)\n",
    "\n",
    "print(\"\\n📊 Agreement rate (fraction of overlap):\")\n",
    "print(agreement_rate.round(2))"
   ]
  },
  {
   "cell_type": "code",
   "execution_count": 9,
   "id": "ee3aa4e2",
   "metadata": {},
   "outputs": [
    {
     "data": {
      "image/png": "[encoded data removed]",
      "text/plain": [
       "<Figure size 576x432 with 2 Axes>"
      ]
     },
     "metadata": {
      "needs_background": "light"
     },
     "output_type": "display_data"
    }
   ],
   "source": [
    "import seaborn as sns\n",
    "import matplotlib.pyplot as plt\n",
    "\n",
    "def plot_agreement_heatmap(agreement_df, title=\"Model-to-Model Agreement Rate\"):\n",
    "    plt.figure(figsize=(8, 6))\n",
    "    sns.heatmap(\n",
    "        agreement_df,\n",
    "        annot=True,\n",
    "        cmap=\"Blues\",\n",
    "        fmt=\".2f\",\n",
    "        linewidths=0.5,\n",
    "        square=True,\n",
    "        cbar_kws={\"label\": \"Agreement Rate\"}\n",
    "    )\n",
    "    plt.title(title)\n",
    "    plt.yticks(rotation=0)\n",
    "    plt.xticks(rotation=45, ha=\"right\")\n",
    "    plt.tight_layout()\n",
    "    plt.show()\n",
    "\n",
    "plot_agreement_heatmap(agreement_rate)"
   ]
  },
  {
   "cell_type": "code",
   "execution_count": 10,
   "id": "27c44d95",
   "metadata": {},
   "outputs": [
    {
     "data": {
      "image/png": "[encoded data removed]",
      "text/plain": [
       "<Figure size 720x432 with 1 Axes>"
      ]
     },
     "metadata": {
      "needs_background": "light"
     },
     "output_type": "display_data"
    }
   ],
   "source": [
    "summary.plot_accuracy_summary_llm('evaluators/results_math_eval_gsm8k_with_llm.csv', 'gsm8k')"
   ]
  },
  {
   "cell_type": "code",
   "execution_count": null,
   "id": "9d7a149d",
   "metadata": {},
   "outputs": [],
   "source": []
  }
 ],
 "metadata": {
  "kernelspec": {
   "display_name": "Python 3 (ipykernel)",
   "language": "python",
   "name": "python3"
  },
  "language_info": {
   "codemirror_mode": {
    "name": "ipython",
    "version": 3
   },
   "file_extension": ".py",
   "mimetype": "text/x-python",
   "name": "python",
   "nbconvert_exporter": "python",
   "pygments_lexer": "ipython3",
   "version": "3.9.7"
  }
 },
 "nbformat": 4,
 "nbformat_minor": 5
}
